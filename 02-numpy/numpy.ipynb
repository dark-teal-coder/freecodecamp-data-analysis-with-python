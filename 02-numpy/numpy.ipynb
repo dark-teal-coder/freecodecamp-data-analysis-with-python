{
  "cells": [
    {
      "cell_type": "markdown",
      "metadata": {
        "id": "view-in-github",
        "colab_type": "text"
      },
      "source": [
        "<a href=\"https://colab.research.google.com/github/dark-teal-coder/freecodecamp-data-analysis-with-python/blob/main/02-numpy/numpy.ipynb\" target=\"_parent\"><img src=\"https://colab.research.google.com/assets/colab-badge.svg\" alt=\"Open In Colab\"/></a>"
      ]
    },
    {
      "cell_type": "markdown",
      "metadata": {
        "id": "snxKL0OTVGP0"
      },
      "source": [
        "<img src=\"https://raw.githubusercontent.com/dark-teal-coder/dark-teal-coder/main/images/coder-no-background-000-128-128.png\"\n",
        "     alt=\"coder-black-background-000-128-128.png\" width=\"100\" height=\"100\" align=\"right\" style=\"margin:0px 5%; padding: 5px;\">\n",
        "<p>\n",
        "\tGitHub: <a href=\"https://github.com/dark-teal-coder\">@dark-teal-coder</a>\n",
        "\t<br />\n",
        "\tFirst Published Date: 2022-05-18\n",
        "\t<br />\n",
        "\tLast Modified Date: 2022-05-29\n",
        "</p>\n",
        "\n",
        "<br />\n",
        "\n",
        "___"
      ]
    },
    {
      "cell_type": "markdown",
      "metadata": {
        "id": "ZsHutuT5VGP2"
      },
      "source": [
        "[![Open In Colab](https://colab.research.google.com/assets/colab-badge.svg)](https://colab.research.google.com/github/dark-teal-coder/freecodecamp-data-analysis-with-python/blob/main/02-numpy/numpy.ipynb)"
      ]
    },
    {
      "cell_type": "markdown",
      "metadata": {
        "id": "ZVQfuL5VVGP2"
      },
      "source": [
        "# Course: Numpy"
      ]
    },
    {
      "cell_type": "markdown",
      "metadata": {
        "id": "GDQKWRM3VGP2"
      },
      "source": [
        "Each lesson/tutorial will be organized as follows:\n",
        "- Heading 2: Lesson/Tutorial Title\n",
        "- YouTube logo <img src=\"https://user-images.githubusercontent.com/95575665/168158125-0d826c1a-ffea-4ea9-a2bc-f3b0f4f0b99a.png\" alt=\"youtube-logo.png\" width=\"15\" height=\"10\"> followed by YouTube video title with embedded link to the video\n",
        "- Heading 3: Summary\n",
        "- Lesson summary\n",
        "- Heading 3: Lesson\n",
        "- Contents of the lesson including code and explanations\n",
        "\n",
        "This notebook is not a direct copy of someone else's notebook or video contents. Summary sections in this notebook are written by <a href=\"https://github.com/dark-teal-coder\">@dark-teal-coder</a>. Lesson sections contain some lines of code and other contents taken from the original [freeCodeCamp](https://www.freecodecamp.org) course but with added comments, concepts, explanations and resources/materials and modified code."
      ]
    },
    {
      "cell_type": "markdown",
      "metadata": {
        "id": "ZEFJynyKVGP3"
      },
      "source": [
        "## What is NumPy"
      ]
    },
    {
      "cell_type": "markdown",
      "metadata": {
        "id": "JYDR_wm_VGP3"
      },
      "source": [
        "<img src=\"https://user-images.githubusercontent.com/95575665/168158125-0d826c1a-ffea-4ea9-a2bc-f3b0f4f0b99a.png\" alt=\"youtube-logo.png\" width=\"15\" height=\"10\"> YouTube: [What is NumPy - Numpy Course](https://www.youtube.com/watch?v=5Nwfs5Ej85Q)"
      ]
    },
    {
      "cell_type": "markdown",
      "metadata": {
        "id": "RqW2v311VGP3"
      },
      "source": [
        "### Summary"
      ]
    },
    {
      "cell_type": "markdown",
      "metadata": {
        "id": "D_OnzEW0VGP3"
      },
      "source": [
        "In this lesson, the instructor ..."
      ]
    },
    {
      "cell_type": "markdown",
      "metadata": {
        "id": "NXaJpJQ7VGP3"
      },
      "source": [
        "### Lesson"
      ]
    },
    {
      "cell_type": "code",
      "execution_count": null,
      "metadata": {
        "id": "sfqU8JMRVGP3"
      },
      "outputs": [],
      "source": []
    },
    {
      "cell_type": "markdown",
      "metadata": {
        "id": "tT32-ahUVGP4"
      },
      "source": [
        "## Basics of Numpy"
      ]
    },
    {
      "cell_type": "markdown",
      "metadata": {
        "id": "ctdyEJBCVGP4"
      },
      "source": [
        "<img src=\"https://user-images.githubusercontent.com/95575665/168158125-0d826c1a-ffea-4ea9-a2bc-f3b0f4f0b99a.png\" alt=\"youtube-logo.png\" width=\"15\" height=\"10\"> YouTube: [Basics of Numpy - Numpy Course](https://www.youtube.com/watch?v=f9QrZrKQMLI)"
      ]
    },
    {
      "cell_type": "markdown",
      "metadata": {
        "id": "9gEGQkdOVGP4"
      },
      "source": [
        "### Summary"
      ]
    },
    {
      "cell_type": "markdown",
      "metadata": {
        "id": "XU95Yo7eVGP4"
      },
      "source": [
        "In this lesson, the instructor ..."
      ]
    },
    {
      "cell_type": "markdown",
      "metadata": {
        "id": "ZDrM3SLlVGP4"
      },
      "source": [
        "### Lesson"
      ]
    },
    {
      "cell_type": "code",
      "execution_count": null,
      "metadata": {
        "id": "tWDYqV5hVGP4"
      },
      "outputs": [],
      "source": []
    },
    {
      "cell_type": "markdown",
      "metadata": {
        "id": "a33_i9YvVGP4"
      },
      "source": [
        "## Accessing and Changing Elements, Rows, Columns"
      ]
    },
    {
      "cell_type": "markdown",
      "metadata": {
        "id": "FXokX003VGP5"
      },
      "source": [
        "<img src=\"https://user-images.githubusercontent.com/95575665/168158125-0d826c1a-ffea-4ea9-a2bc-f3b0f4f0b99a.png\" alt=\"youtube-logo.png\" width=\"15\" height=\"10\"> YouTube: [Accessing and Changing Elements, Rows, Columns - Numpy Course](https://www.youtube.com/watch?v=v-7Y7koJ_N0)"
      ]
    },
    {
      "cell_type": "markdown",
      "metadata": {
        "id": "OpeYWqlYVGP5"
      },
      "source": [
        "### Summary"
      ]
    },
    {
      "cell_type": "markdown",
      "metadata": {
        "id": "ZNdvvXtvVGP5"
      },
      "source": [
        "In this lesson, the instructor ..."
      ]
    },
    {
      "cell_type": "markdown",
      "metadata": {
        "id": "8rxotQTfVGP5"
      },
      "source": [
        "### Lesson"
      ]
    },
    {
      "cell_type": "code",
      "execution_count": null,
      "metadata": {
        "id": "7Yc4cPeeVGP5"
      },
      "outputs": [],
      "source": []
    },
    {
      "cell_type": "markdown",
      "metadata": {
        "id": "CU43wfd6VGP5"
      },
      "source": [
        "## Initializing Different Arrays"
      ]
    },
    {
      "cell_type": "markdown",
      "metadata": {
        "id": "_ZyZpJ6GVGP5"
      },
      "source": [
        "<img src=\"https://user-images.githubusercontent.com/95575665/168158125-0d826c1a-ffea-4ea9-a2bc-f3b0f4f0b99a.png\" alt=\"youtube-logo.png\" width=\"15\" height=\"10\"> YouTube: [Initializing Different Arrays - Numpy Course](https://www.youtube.com/watch?v=CEykdsKT4U4)"
      ]
    },
    {
      "cell_type": "markdown",
      "metadata": {
        "id": "Aj8dT1kMVGP5"
      },
      "source": [
        "### Summary"
      ]
    },
    {
      "cell_type": "markdown",
      "metadata": {
        "id": "MN29kDZqVGP5"
      },
      "source": [
        "In this lesson, the instructor ..."
      ]
    },
    {
      "cell_type": "markdown",
      "metadata": {
        "id": "K63DkF0EVGP5"
      },
      "source": [
        "### Lesson"
      ]
    },
    {
      "cell_type": "code",
      "execution_count": null,
      "metadata": {
        "id": "3BwM8ToSVGP5"
      },
      "outputs": [],
      "source": []
    },
    {
      "cell_type": "markdown",
      "metadata": {
        "id": "SwiGWkdtVGP6"
      },
      "source": [
        "## Initialize Array Problem"
      ]
    },
    {
      "cell_type": "markdown",
      "metadata": {
        "id": "U5a6pvfAVGP6"
      },
      "source": [
        "<img src=\"https://user-images.githubusercontent.com/95575665/168158125-0d826c1a-ffea-4ea9-a2bc-f3b0f4f0b99a.png\" alt=\"youtube-logo.png\" width=\"15\" height=\"10\"> YouTube: [Initialize Array Problem - Numpy Course](https://www.youtube.com/watch?v=0jGfH8BPfOk)"
      ]
    },
    {
      "cell_type": "markdown",
      "metadata": {
        "id": "eB1x6FApVGP6"
      },
      "source": [
        "### Summary"
      ]
    },
    {
      "cell_type": "markdown",
      "metadata": {
        "id": "R4t9vHgMVGP6"
      },
      "source": [
        "In this lesson, the instructor ..."
      ]
    },
    {
      "cell_type": "markdown",
      "metadata": {
        "id": "i4JgiQiTVGP6"
      },
      "source": [
        "### Lesson"
      ]
    },
    {
      "cell_type": "code",
      "execution_count": null,
      "metadata": {
        "id": "wbZJQvOJVGP6"
      },
      "outputs": [],
      "source": []
    },
    {
      "cell_type": "markdown",
      "metadata": {
        "id": "aXY2TY7pVGP6"
      },
      "source": [
        "## Copying Arrays Warning"
      ]
    },
    {
      "cell_type": "markdown",
      "metadata": {
        "id": "CPjNx3u8VGP6"
      },
      "source": [
        "<img src=\"https://user-images.githubusercontent.com/95575665/168158125-0d826c1a-ffea-4ea9-a2bc-f3b0f4f0b99a.png\" alt=\"youtube-logo.png\" width=\"15\" height=\"10\"> YouTube: [Copying Arrays Warning - Numpy Course](https://www.youtube.com/watch?v=iIoQ0_L0GvA)"
      ]
    },
    {
      "cell_type": "markdown",
      "metadata": {
        "id": "4zHeCC9fVGP7"
      },
      "source": [
        "### Summary"
      ]
    },
    {
      "cell_type": "markdown",
      "metadata": {
        "id": "NqDFlmthVGP7"
      },
      "source": [
        "In this lesson, the instructor ..."
      ]
    },
    {
      "cell_type": "markdown",
      "metadata": {
        "id": "THxqMwkzVGP7"
      },
      "source": [
        "### Lesson"
      ]
    },
    {
      "cell_type": "code",
      "execution_count": null,
      "metadata": {
        "id": "IFlazN46VGP8"
      },
      "outputs": [],
      "source": []
    },
    {
      "cell_type": "markdown",
      "metadata": {
        "id": "lRo5G1OyVGP8"
      },
      "source": [
        "## Mathematics"
      ]
    },
    {
      "cell_type": "markdown",
      "metadata": {
        "id": "nXAXXMGNVGP8"
      },
      "source": [
        "<img src=\"https://user-images.githubusercontent.com/95575665/168158125-0d826c1a-ffea-4ea9-a2bc-f3b0f4f0b99a.png\" alt=\"youtube-logo.png\" width=\"15\" height=\"10\"> YouTube: [Mathematics - Numpy Course](https://www.youtube.com/watch?v=7txegvyhtVk)"
      ]
    },
    {
      "cell_type": "markdown",
      "metadata": {
        "id": "LMYd8zjFVGP8"
      },
      "source": [
        "### Summary"
      ]
    },
    {
      "cell_type": "markdown",
      "metadata": {
        "id": "rsACBeypVGP9"
      },
      "source": [
        "In this lesson, the instructor ..."
      ]
    },
    {
      "cell_type": "markdown",
      "metadata": {
        "id": "wi3IrNDLVGP9"
      },
      "source": [
        "### Lesson"
      ]
    },
    {
      "cell_type": "code",
      "execution_count": null,
      "metadata": {
        "id": "UX9pCKsYVGP9"
      },
      "outputs": [],
      "source": []
    },
    {
      "cell_type": "markdown",
      "metadata": {
        "id": "Lun_piTuVGP9"
      },
      "source": [
        "## Reorganizing Arrays"
      ]
    },
    {
      "cell_type": "markdown",
      "metadata": {
        "id": "jt2u-u_0VGP9"
      },
      "source": [
        "<img src=\"https://user-images.githubusercontent.com/95575665/168158125-0d826c1a-ffea-4ea9-a2bc-f3b0f4f0b99a.png\" alt=\"youtube-logo.png\" width=\"15\" height=\"10\"> YouTube: [Reorganizing Arrays - Numpy Course](https://www.youtube.com/watch?v=VNWAQbEM-C8)"
      ]
    },
    {
      "cell_type": "markdown",
      "metadata": {
        "id": "JrlBSuGiVGP9"
      },
      "source": [
        "### Summary"
      ]
    },
    {
      "cell_type": "markdown",
      "metadata": {
        "id": "F9HRT5f5VGP9"
      },
      "source": [
        "In this lesson, the instructor ..."
      ]
    },
    {
      "cell_type": "markdown",
      "metadata": {
        "id": "Wc2_7B1PVGP9"
      },
      "source": [
        "### Lesson"
      ]
    },
    {
      "cell_type": "code",
      "execution_count": null,
      "metadata": {
        "id": "QCKBwU-KVGP9"
      },
      "outputs": [],
      "source": []
    },
    {
      "cell_type": "markdown",
      "metadata": {
        "id": "mPs0OS_CVGP-"
      },
      "source": [
        "## Loading Data and Advanced Indexing"
      ]
    },
    {
      "cell_type": "markdown",
      "metadata": {
        "id": "uhp_eff7VGP-"
      },
      "source": [
        "<img src=\"https://user-images.githubusercontent.com/95575665/168158125-0d826c1a-ffea-4ea9-a2bc-f3b0f4f0b99a.png\" alt=\"youtube-logo.png\" width=\"15\" height=\"10\"> YouTube: [Loading Data and Advanced Indexing - Numpy Course](https://www.youtube.com/watch?v=tUdBZ7pF8Jg)"
      ]
    },
    {
      "cell_type": "markdown",
      "metadata": {
        "id": "WaFtlXqBVGP-"
      },
      "source": [
        "### Summary"
      ]
    },
    {
      "cell_type": "markdown",
      "metadata": {
        "id": "EOyytckeVGP-"
      },
      "source": [
        "In this lesson, the instructor ..."
      ]
    },
    {
      "cell_type": "markdown",
      "metadata": {
        "id": "AFmxEDeKVGP-"
      },
      "source": [
        "### Lesson"
      ]
    },
    {
      "cell_type": "code",
      "execution_count": null,
      "metadata": {
        "id": "OrIRVFwFVGP-"
      },
      "outputs": [],
      "source": []
    }
  ],
  "metadata": {
    "interpreter": {
      "hash": "2011e8f1b66e4ca782a16183c079a9a8ceaa771eb94b3143f514bb5560527e59"
    },
    "kernelspec": {
      "display_name": "Python 3.8.12 ('base')",
      "language": "python",
      "name": "python3"
    },
    "language_info": {
      "codemirror_mode": {
        "name": "ipython",
        "version": 3
      },
      "file_extension": ".py",
      "mimetype": "text/x-python",
      "name": "python",
      "nbconvert_exporter": "python",
      "pygments_lexer": "ipython3",
      "version": "3.8.12"
    },
    "orig_nbformat": 4,
    "colab": {
      "provenance": [],
      "include_colab_link": true
    }
  },
  "nbformat": 4,
  "nbformat_minor": 0
}